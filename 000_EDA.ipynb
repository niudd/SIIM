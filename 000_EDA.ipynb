{
 "cells": [
  {
   "cell_type": "code",
   "execution_count": null,
   "metadata": {},
   "outputs": [],
   "source": [
    "import numpy as np\n",
    "import pandas as pd\n",
    "import os\n",
    "import sys\n",
    "import glob\n",
    "from matplotlib import pyplot as plt\n",
    "from tqdm import tqdm_notebook\n",
    "import pickle\n",
    "\n",
    "import pydicom\n",
    "import cv2\n",
    "from PIL import Image\n",
    "from mask_functions import rle2mask\n",
    "\n",
    "from torch.utils.data import DataLoader, Dataset\n",
    "\n",
    "%matplotlib inline"
   ]
  },
  {
   "cell_type": "markdown",
   "metadata": {},
   "source": [
    "624 images has multiple-masks, 26% of non-empty-mask images, "
   ]
  },
  {
   "cell_type": "code",
   "execution_count": null,
   "metadata": {},
   "outputs": [],
   "source": [
    "#train_path = 'data/raw/dicom-images-train/*/*/*.dcm'\n",
    "#test_path = 'data/raw/dicom-images-test/*/*/*.dcm'\n",
    "train_path = 'data/processed/train/*'\n",
    "test_path = 'data/processed/test/*'\n",
    "\n",
    "train_fname_list = glob.glob(train_path)\n",
    "test_fname_list = glob.glob(test_path)\n",
    "len(train_fname_list), len(test_fname_list)#(10712, 1377)"
   ]
  },
  {
   "cell_type": "code",
   "execution_count": null,
   "metadata": {},
   "outputs": [],
   "source": [
    "## convert all dcm images into png images ##\n",
    "\n",
    "# train folder\n",
    "for idx, raw_fname in enumerate(tqdm_notebook(train_fname_list)):\n",
    "    dataset = pydicom.dcmread(raw_fname)\n",
    "    fname = raw_fname.split('/')[-1][:-4]\n",
    "    new_fname = 'data/processed/train/%s.png'%fname\n",
    "    cv2.imwrite(new_fname, dataset.pixel_array)\n",
    "    #if idx>10:\n",
    "    #    break\n",
    "# test folder\n",
    "for idx, raw_fname in enumerate(tqdm_notebook(test_fname_list)):\n",
    "    dataset = pydicom.dcmread(raw_fname)\n",
    "    fname = raw_fname.split('/')[-1][:-4]\n",
    "    new_fname = 'data/processed/test/%s.png'%fname\n",
    "    cv2.imwrite(new_fname, dataset.pixel_array)\n",
    "    #if idx>10:\n",
    "    #    break"
   ]
  },
  {
   "cell_type": "code",
   "execution_count": null,
   "metadata": {
    "scrolled": true
   },
   "outputs": [],
   "source": [
    "train_mask = pd.read_csv('data/raw/train-rle.csv')\n",
    "print('percentage of images having mask: ', (train_mask[' EncodedPixels']!=' -1').mean())\n",
    "print('%d images out of %d having mask'%((train_mask[' EncodedPixels']!=' -1').sum(), len(train_mask.index)))\n",
    "train_mask.head(5)"
   ]
  },
  {
   "cell_type": "code",
   "execution_count": null,
   "metadata": {},
   "outputs": [],
   "source": [
    "train_mask.ImageId.nunique(), len(train_mask.index)\n",
    "#train_mask.loc[0, ' EncodedPixels'].strip()"
   ]
  },
  {
   "cell_type": "code",
   "execution_count": null,
   "metadata": {
    "scrolled": true
   },
   "outputs": [],
   "source": []
  },
  {
   "cell_type": "code",
   "execution_count": null,
   "metadata": {
    "scrolled": true
   },
   "outputs": [],
   "source": [
    "from dataset_unet import SIIMDataset, mask2data, prepare_trainset"
   ]
  },
  {
   "cell_type": "code",
   "execution_count": null,
   "metadata": {},
   "outputs": [],
   "source": [
    "train_dl, val_dl = prepare_trainset(BATCH_SIZE=16, NUM_WORKERS=24, SEED=1234, IMG_SIZE=256, debug=True)"
   ]
  },
  {
   "cell_type": "code",
   "execution_count": null,
   "metadata": {},
   "outputs": [],
   "source": [
    "for i, (image, mask) in enumerate(train_dl):\n",
    "    #image = image.to(device=device, dtype=torch.float)\n",
    "    #target has keys: 'boxes', 'labels', 'masks', 'image_id', 'area', 'iscrowd'\n",
    "    #masks = target['masks'].to(device=device, dtype=torch.float)\n",
    "    if i == 3:\n",
    "        break"
   ]
  },
  {
   "cell_type": "code",
   "execution_count": null,
   "metadata": {},
   "outputs": [],
   "source": [
    "image.size(), mask.size(), mask.max(), mask.min()"
   ]
  },
  {
   "cell_type": "code",
   "execution_count": null,
   "metadata": {},
   "outputs": [],
   "source": [
    "## study what is pneumothorax\n",
    "fig=plt.figure(figsize=(15, 20))\n",
    "for idx in range(16):\n",
    "    ax = fig.add_subplot(4, 4, idx+1)\n",
    "    plt.imshow(image[idx, 0, :, :], cmap=plt.cm.bone)\n",
    "    is_nonempty = (mask[idx, 0, :, :].float().sum()>0).long().item()\n",
    "    plt.imshow(mask[idx, 0, :, :], alpha=0.3, cmap=\"Reds\")\n",
    "    if is_nonempty:\n",
    "        plt.title('Has Mask')\n",
    "    else:\n",
    "        plt.title('Empty')"
   ]
  },
  {
   "cell_type": "code",
   "execution_count": null,
   "metadata": {},
   "outputs": [],
   "source": [
    "idx = 10\n",
    "plt.imshow(np.rot90(image[idx, 0, :, :].numpy(), 0), cmap=plt.cm.bone)\n",
    "plt.imshow(mask[idx, 0, :, :], alpha=0.3, cmap=\"Reds\")"
   ]
  },
  {
   "cell_type": "code",
   "execution_count": null,
   "metadata": {},
   "outputs": [],
   "source": []
  },
  {
   "cell_type": "code",
   "execution_count": null,
   "metadata": {},
   "outputs": [],
   "source": [
    "#downloaded from kaggler's mask --dont know the original source\n",
    "files = glob.glob('data/processed/masks_kaggler/*.png')"
   ]
  },
  {
   "cell_type": "code",
   "execution_count": null,
   "metadata": {},
   "outputs": [],
   "source": [
    "files[0]"
   ]
  },
  {
   "cell_type": "code",
   "execution_count": null,
   "metadata": {
    "scrolled": false
   },
   "outputs": [],
   "source": [
    "##\n",
    "rows = 10\n",
    "l = [4,5,6,7]\n",
    "\n",
    "cnt = 0\n",
    "for idx, (img, mask) in enumerate(val_dl):\n",
    "    for j in range(16):#BATCH_SIZE\n",
    "        if j in l:\n",
    "            continue\n",
    "        not_empty = mask[j][0].sum()>0\n",
    "        if not_empty:\n",
    "            cnt+=1\n",
    "            fig, (ax0, ax1, ax2) = plt.subplots(ncols=3, figsize=(12, 4))\n",
    "            ax0.imshow(img[j][0].numpy(), plt.cm.bone)\n",
    "            ax1.imshow(mask[j][0], vmin=0, vmax=1, cmap=\"Reds\")\n",
    "            #compare with kaggler's mask\n",
    "            img_id = val_dl.dataset.data[idx*16+j]['img_id']\n",
    "            mask_kaggler = plt.imread('data/processed/masks_kaggler/%s.png'%img_id)\n",
    "            ax2.imshow(mask_kaggler, vmin=0, vmax=1, cmap=\"Blues\")\n",
    "            if not_empty.item():\n",
    "                ax1.set_title('MyMask(Has Mask)')\n",
    "            else:\n",
    "                ax1.set_title('MyMask(Empty)')\n",
    "            ax2.set_title('KagglerMask')\n",
    "        if cnt>rows:\n",
    "            break"
   ]
  },
  {
   "cell_type": "code",
   "execution_count": null,
   "metadata": {},
   "outputs": [],
   "source": []
  },
  {
   "cell_type": "code",
   "execution_count": null,
   "metadata": {},
   "outputs": [],
   "source": []
  },
  {
   "cell_type": "code",
   "execution_count": null,
   "metadata": {},
   "outputs": [],
   "source": []
  },
  {
   "cell_type": "code",
   "execution_count": null,
   "metadata": {},
   "outputs": [],
   "source": []
  },
  {
   "cell_type": "code",
   "execution_count": null,
   "metadata": {},
   "outputs": [],
   "source": [
    "def show_dcm_info(dataset, fname):\n",
    "    print(\"Filename.........:\", fname)\n",
    "    print(\"Storage type.....:\", dataset.SOPClassUID)\n",
    "    pat_name = dataset.PatientName\n",
    "    display_name = pat_name.family_name + \", \" + pat_name.given_name\n",
    "    print(\"Patient's name......:\", display_name)\n",
    "    print(\"Patient id..........:\", dataset.PatientID)\n",
    "    print(\"Patient's Age.......:\", dataset.PatientAge)\n",
    "    print(\"Patient's Sex.......:\", dataset.PatientSex)\n",
    "    print(\"Modality............:\", dataset.Modality)\n",
    "    print(\"Body Part Examined..:\", dataset.BodyPartExamined)\n",
    "    print(\"View Position.......:\", dataset.ViewPosition)\n",
    "    if 'PixelData' in dataset:\n",
    "        rows = int(dataset.Rows)\n",
    "        cols = int(dataset.Columns)\n",
    "        print(\"Image size.......: {rows:d} x {cols:d}, {size:d} bytes\".format(\n",
    "            rows=rows, cols=cols, size=len(dataset.PixelData)))\n",
    "        if 'PixelSpacing' in dataset:\n",
    "            print(\"Pixel spacing....:\", dataset.PixelSpacing)\n",
    "    print()"
   ]
  },
  {
   "cell_type": "code",
   "execution_count": null,
   "metadata": {},
   "outputs": [],
   "source": [
    "random_fname_list = np.random.choice(train_fname_list, 20)\n",
    "\n",
    "for idx, fname in enumerate(random_fname_list):\n",
    "    print('fname_idx================%d'%idx)\n",
    "    dataset = pydicom.dcmread(fname)\n",
    "    show_dcm_info(dataset, fname)\n",
    "    #plot_pixel_array(dataset)"
   ]
  },
  {
   "cell_type": "code",
   "execution_count": null,
   "metadata": {},
   "outputs": [],
   "source": []
  },
  {
   "cell_type": "code",
   "execution_count": null,
   "metadata": {},
   "outputs": [],
   "source": []
  }
 ],
 "metadata": {
  "kernelspec": {
   "display_name": "Python 3",
   "language": "python",
   "name": "python3"
  },
  "language_info": {
   "codemirror_mode": {
    "name": "ipython",
    "version": 3
   },
   "file_extension": ".py",
   "mimetype": "text/x-python",
   "name": "python",
   "nbconvert_exporter": "python",
   "pygments_lexer": "ipython3",
   "version": "3.7.1"
  }
 },
 "nbformat": 4,
 "nbformat_minor": 2
}
