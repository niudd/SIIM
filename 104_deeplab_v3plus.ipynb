{
 "cells": [
  {
   "cell_type": "code",
   "execution_count": null,
   "metadata": {},
   "outputs": [],
   "source": [
    "import numpy as np\n",
    "import pandas as pd\n",
    "from matplotlib import pyplot as plt\n",
    "from tqdm import tqdm_notebook\n",
    "import pickle\n",
    "import os\n",
    "import logging\n",
    "import time\n",
    "from IPython.core.debugger import set_trace\n",
    "\n",
    "import torch\n",
    "import torch.nn as nn\n",
    "import torch.nn.functional as F\n",
    "\n",
    "from dataset_unet import prepare_trainset\n",
    "from utils import save_checkpoint, load_checkpoint, set_logger\n",
    "from gpu_utils import set_n_get_device\n",
    "\n",
    "#from model.model_unet import UNetResNet34, predict_proba\n",
    "#from model.model_unet_classify_zero import UNetResNet34 as ZeroMaskClassifier\n",
    "from model.deeplab_model_kaggler.deeplab import DeepLab\n",
    "\n",
    "%matplotlib inline"
   ]
  },
  {
   "cell_type": "code",
   "execution_count": null,
   "metadata": {},
   "outputs": [],
   "source": [
    "######### Config the training process #########\n",
    "#device = set_n_get_device(\"0, 1, 2, 3\", data_device_id=\"cuda:0\")#0, 1, 2, 3, IMPORTANT: data_device_id is set to free gpu for storing the model, e.g.\"cuda:1\"\n",
    "MODEL = 'drn' #'xception', 'resnet', 'drn'\n",
    "#AUX_LOGITS = True#False, only for 'INCEPTION_V3'\n",
    "print('====MODEL ACHITECTURE: %s===='%MODEL)\n",
    "\n",
    "device = set_n_get_device(\"0,1,2,3\", data_device_id=\"cuda:0\")#0, 1, 2, 3, IMPORTANT: data_device_id is set to free gpu for storing the model, e.g.\"cuda:1\"\n",
    "multi_gpu = [0,1,2,3] #None#[0, 1]#use 2 gpus\n",
    "\n",
    "SEED = 1234 #5678#4567#3456#2345#1234\n",
    "debug = True# if True, load 100 samples\n",
    "IMG_SIZE = 768 #768#1024#512\n",
    "BATCH_SIZE = 8\n",
    "NUM_WORKERS = 24\n",
    "torch.cuda.manual_seed_all(SEED)"
   ]
  },
  {
   "cell_type": "markdown",
   "metadata": {},
   "source": [
    "## the dataset"
   ]
  },
  {
   "cell_type": "code",
   "execution_count": null,
   "metadata": {},
   "outputs": [],
   "source": [
    "train_dl, val_dl = prepare_trainset(BATCH_SIZE, NUM_WORKERS, SEED, IMG_SIZE, debug)"
   ]
  },
  {
   "cell_type": "code",
   "execution_count": null,
   "metadata": {},
   "outputs": [],
   "source": [
    "for i, (images, masks) in enumerate(train_dl):\n",
    "    images = images.to(device=device, dtype=torch.float)\n",
    "    masks = masks.to(device=device, dtype=torch.float)\n",
    "    #labels = (torch.sum(masks.reshape(masks.size()[0], -1), dim=1, keepdim=True)==0).to(device=device, dtype=torch.float) #1 for non-zero-mask\n",
    "    if i==0:\n",
    "        break"
   ]
  },
  {
   "cell_type": "code",
   "execution_count": null,
   "metadata": {},
   "outputs": [],
   "source": [
    "images.size(), masks.size()#, labels.size()"
   ]
  },
  {
   "cell_type": "code",
   "execution_count": null,
   "metadata": {},
   "outputs": [],
   "source": []
  },
  {
   "cell_type": "markdown",
   "metadata": {},
   "source": [
    "## the model"
   ]
  },
  {
   "cell_type": "code",
   "execution_count": null,
   "metadata": {},
   "outputs": [],
   "source": [
    "net = DeepLab(num_classes=2,\n",
    "              backbone=MODEL,#resnet34, resnet101\n",
    "              output_stride=16,#default 16, 8\n",
    "              sync_bn=None,\n",
    "              freeze_bn=False,\n",
    "              debug=True\n",
    "             ).cuda(device=device)\n",
    "\n",
    "#checkpoint_path = 'checkpoint/UNetResNet34_512_v1_seed3456/best.pth.tar'\n",
    "#net, _ = load_checkpoint(checkpoint_path, net)\n",
    "\n",
    "if multi_gpu is not None:\n",
    "    net = nn.DataParallel(net, device_ids=multi_gpu)"
   ]
  },
  {
   "cell_type": "code",
   "execution_count": null,
   "metadata": {
    "scrolled": true
   },
   "outputs": [],
   "source": [
    "logit = net(images)"
   ]
  },
  {
   "cell_type": "code",
   "execution_count": null,
   "metadata": {},
   "outputs": [],
   "source": [
    "logit.size(), masks.size()"
   ]
  },
  {
   "cell_type": "code",
   "execution_count": null,
   "metadata": {},
   "outputs": [],
   "source": [
    "# Loss_FUNC = nn.BCEWithLogitsLoss()\n",
    "# bce_loss = Loss_FUNC(logit, masks)\n",
    "# bce_loss"
   ]
  },
  {
   "cell_type": "code",
   "execution_count": null,
   "metadata": {
    "scrolled": true
   },
   "outputs": [],
   "source": [
    "_loss = net.criterion(logit, masks)\n",
    "_loss"
   ]
  },
  {
   "cell_type": "code",
   "execution_count": null,
   "metadata": {},
   "outputs": [],
   "source": [
    "_metric = net.metric(logit, masks)\n",
    "_metric"
   ]
  },
  {
   "cell_type": "code",
   "execution_count": null,
   "metadata": {},
   "outputs": [],
   "source": []
  },
  {
   "cell_type": "markdown",
   "metadata": {},
   "source": [
    "## predict the validset, and analyse"
   ]
  },
  {
   "cell_type": "code",
   "execution_count": null,
   "metadata": {},
   "outputs": [],
   "source": [
    "#move checkpoint from gamma machine to here\n",
    "cd checkpoint\n",
    "scp -r endi.niu@10.171.36.214:/home/endi.niu/SIIM/checkpoint/deeplabv3plus_resnet_1280_v2_seed2345/ deeplabv3plus_resnet_1280_v2_seed2345\n",
    "cd logging\n",
    "scp -r endi.niu@10.171.36.214:/home/endi.niu/SIIM/logging/deeplabv3plus_resnet_1280_v2_seed2345.log deeplabv3plus_resnet_1280_v2_seed2345.log\n"
   ]
  },
  {
   "cell_type": "code",
   "execution_count": 1,
   "metadata": {},
   "outputs": [],
   "source": [
    "import numpy as np\n",
    "import pandas as pd\n",
    "import math\n",
    "from matplotlib import pyplot as plt\n",
    "from tqdm import tqdm, tqdm_notebook\n",
    "import pickle\n",
    "import os\n",
    "import logging\n",
    "import time\n",
    "import gc\n",
    "from IPython.core.debugger import set_trace\n",
    "\n",
    "import torch\n",
    "import torch.nn as nn\n",
    "import torch.nn.functional as F\n",
    "\n",
    "from utils import save_checkpoint, load_checkpoint, set_logger\n",
    "from gpu_utils import set_n_get_device\n",
    "\n",
    "from model.deeplab_model_kaggler.deeplab import DeepLab, predict_proba\n",
    "from dataset_unet import prepare_trainset\n",
    "\n",
    "def sigmoid(x):\n",
    "    return 1 / (1 + np.exp(-x))\n",
    "\n",
    "def inverse_sigmoid(x):\n",
    "    return np.log(x / (1-x))\n",
    "\n",
    "%matplotlib inline"
   ]
  },
  {
   "cell_type": "code",
   "execution_count": 2,
   "metadata": {
    "scrolled": true
   },
   "outputs": [
    {
     "name": "stdout",
     "output_type": "stream",
     "text": [
      "====MODEL ACHITECTURE: resnet====\n"
     ]
    }
   ],
   "source": [
    "######### Config the training process #########\n",
    "#device = set_n_get_device(\"0, 1, 2, 3\", data_device_id=\"cuda:0\")#0, 1, 2, 3, IMPORTANT: data_device_id is set to free gpu for storing the model, e.g.\"cuda:1\"\n",
    "MODEL = 'resnet'#\n",
    "#AUX_LOGITS = True#False, only for 'INCEPTION_V3'\n",
    "print('====MODEL ACHITECTURE: %s===='%MODEL)\n",
    "\n",
    "device = set_n_get_device(\"0,1\", data_device_id=\"cuda:0\")#0, 1, 2, 3, IMPORTANT: data_device_id is set to free gpu for storing the model, e.g.\"cuda:1\"\n",
    "multi_gpu = [0,1] #None#[0, 1]#use 2 gpus\n",
    "\n",
    "SEED = 2345 #5678#4567#3456#2345#1234\n",
    "debug = False# if True, load 100 samples\n",
    "IMG_SIZE = 1024 #768#1024#512\n",
    "BATCH_SIZE = 32 #32#16\n",
    "NUM_WORKERS = 24\n",
    "torch.cuda.manual_seed_all(SEED)"
   ]
  },
  {
   "cell_type": "code",
   "execution_count": 3,
   "metadata": {},
   "outputs": [
    {
     "name": "stdout",
     "output_type": "stream",
     "text": [
      "Count of trainset (for training):  9607\n",
      "Count of validset (for training):  1068\n"
     ]
    }
   ],
   "source": [
    "train_dl, val_dl = prepare_trainset(BATCH_SIZE, NUM_WORKERS, SEED, IMG_SIZE, debug)"
   ]
  },
  {
   "cell_type": "code",
   "execution_count": null,
   "metadata": {},
   "outputs": [],
   "source": [
    "# y should be makeup\n",
    "y_valid = []\n",
    "for i, (image, masks) in enumerate(val_dl):\n",
    "    #if i==10:\n",
    "    #    break\n",
    "    truth = masks.to(device=device, dtype=torch.float)\n",
    "    y_valid.append(truth.cpu().numpy())\n",
    "y_valid = np.concatenate(y_valid, axis=0)\n",
    "y_valid.shape"
   ]
  },
  {
   "cell_type": "code",
   "execution_count": null,
   "metadata": {},
   "outputs": [],
   "source": [
    "net = DeepLab(num_classes=2,\n",
    "              backbone=MODEL,#resnet34, resnet101\n",
    "              output_stride=16,#default 16, 8\n",
    "              sync_bn=None,\n",
    "              freeze_bn=False,\n",
    "              debug=False\n",
    "             ).cuda(device=device)\n",
    "\n",
    "#checkpoint_path = 'checkpoint/deeplabv3plus_resnet_1024_v1_seed1234/best.pth.tar'\n",
    "#checkpoint_path = 'checkpoint/deeplabv3plus_resnet_1024_v1_seed3456/best.pth.tar'\n",
    "#checkpoint_path = 'checkpoint/deeplabv3plus_resnet_768_v1_seed3456/best.pth.tar'\n",
    "#checkpoint_path = 'checkpoint/deeplabv3plus_resnet_768_v1_seed2345/best.pth.tar'\n",
    "#checkpoint_path = 'checkpoint/deeplabv3plus_resnet_768_v1_seed1234/best.pth.tar'\n",
    "#checkpoint_path = 'checkpoint/deeplabv3plus_resnet_1024_v1_seed2345/best.pth.tar'\n",
    "#checkpoint_path = 'checkpoint/deeplabv3plus_resnet_768_v1_seed4567/best.pth.tar'\n",
    "\n",
    "#checkpoint_path = 'checkpoint/deeplabv3plus_resnet_1024_v2_seed1234/best.pth.tar'\n",
    "#checkpoint_path = 'checkpoint/deeplabv3plus_resnet_1024_v2_seed2345/best.pth.tar'\n",
    "#checkpoint_path = 'checkpoint/deeplabv3plus_resnet_1024_v2_seed3456/best.pth.tar'\n",
    "#checkpoint_path = 'checkpoint/deeplabv3plus_resnet_1024_v2_seed5678/best.pth.tar'\n",
    "#checkpoint_path = 'checkpoint/deeplabv3plus_resnet_1024_v2_seed6789/best.pth.tar'\n",
    "#checkpoint_path = 'checkpoint/deeplabv3plus_resnet_1024_v2_seed7890/best.pth.tar'\n",
    "#checkpoint_path = 'checkpoint/deeplabv3plus_resnet_1024_v2_seed8901/best.pth.tar'\n",
    "#checkpoint_path = 'checkpoint/deeplabv3plus_resnet_1024_v2_seed9012/best.pth.tar'\n",
    "checkpoint_path = 'checkpoint/deeplabv3plus_resnet_1280_v2_seed2345/best.pth.tar'\n",
    "\n",
    "net, _ = load_checkpoint(checkpoint_path, net)\n",
    "\n",
    "if multi_gpu is not None:\n",
    "    net = nn.DataParallel(net, device_ids=multi_gpu)"
   ]
  },
  {
   "cell_type": "code",
   "execution_count": null,
   "metadata": {},
   "outputs": [],
   "source": [
    "%%time\n",
    "preds_valid = predict_proba(net, val_dl, device, multi_gpu=multi_gpu, mode='valid', tta=True)"
   ]
  },
  {
   "cell_type": "code",
   "execution_count": null,
   "metadata": {},
   "outputs": [],
   "source": [
    "y_valid.shape, preds_valid.shape"
   ]
  },
  {
   "cell_type": "code",
   "execution_count": null,
   "metadata": {},
   "outputs": [],
   "source": [
    "## search for best thresholds\n",
    "def calculate_dice(logit, truth, EMPTY_THRESHOLD=400, MASK_THRESHOLD=0.22):\n",
    "    IMG_SIZE = logit.shape[-1] #256\n",
    "    logit = sigmoid(logit)#.reshape(n, -1)\n",
    "    pred = (logit>MASK_THRESHOLD).astype(np.int)\n",
    "    pred_clf = (pred.reshape(pred.shape[0], -1).sum(axis=1)<EMPTY_THRESHOLD).astype(np.int)\n",
    "    pred[pred_clf.reshape(-1,)==1, ] = 0\n",
    "    return dice_overall(pred, truth)\n",
    "\n",
    "def dice_overall(pred_mask, truth_mask, eps=1e-8):\n",
    "    n = pred_mask.shape[0]\n",
    "    pred_mask = pred_mask.reshape(n, -1)\n",
    "    truth_mask = truth_mask.reshape(n, -1)\n",
    "    intersect = (pred_mask * truth_mask).sum(axis=1).astype(np.float)\n",
    "    union = (pred_mask + truth_mask).sum(axis=1).astype(np.float)\n",
    "    return ((2.0*intersect + eps) / (union+eps)).mean()"
   ]
  },
  {
   "cell_type": "code",
   "execution_count": null,
   "metadata": {
    "scrolled": true
   },
   "outputs": [],
   "source": [
    "#np.arange(1400, 1520, 20) for 512#np.arange(350, 450, 10) for 256\n",
    "#EMPTY_THRESHOLD_candidate = np.arange(6000, 7000, 100) #for 1024\n",
    "EMPTY_THRESHOLD_candidate = np.arange(9500, 10500, 100) #for 1280\n",
    "#EMPTY_THRESHOLD_candidate = np.arange(2900, 3300, 100)#np.arange(2900, 4200, 100)#for 768\n",
    "MASK_THRESHOLD_candidate = np.arange(0.18, 0.23, 0.01)#np.arange(0.19, 0.27, 0.01)\n",
    "M, N = len(EMPTY_THRESHOLD_candidate), len(MASK_THRESHOLD_candidate)\n",
    "best_threshold = None\n",
    "best_score = 0\n",
    "\n",
    "for i in tqdm_notebook(range(M)):\n",
    "    EMPTY_THRESHOLD = EMPTY_THRESHOLD_candidate[i]\n",
    "    for j in range(N):\n",
    "        MASK_THRESHOLD = MASK_THRESHOLD_candidate[j]\n",
    "        dice_score = calculate_dice(preds_valid, y_valid.squeeze(1), EMPTY_THRESHOLD, MASK_THRESHOLD)\n",
    "        print('CLF_EMPTY_THRESHOLD: %f, MASK_THRESHOLD: %f, dice_score: %f'%(EMPTY_THRESHOLD, MASK_THRESHOLD, dice_score))\n",
    "        if dice_score>best_score:\n",
    "            best_threshold = [EMPTY_THRESHOLD, MASK_THRESHOLD]\n",
    "            best_score = dice_score"
   ]
  },
  {
   "cell_type": "code",
   "execution_count": null,
   "metadata": {},
   "outputs": [],
   "source": [
    "EMPTY_THRESHOLD, MASK_THRESHOLD = best_threshold\n",
    "#EMPTY_THRESHOLD, MASK_THRESHOLD, best_score = 6000, 0.21, 0.855777\n",
    "EMPTY_THRESHOLD, MASK_THRESHOLD, best_score"
   ]
  },
  {
   "cell_type": "code",
   "execution_count": null,
   "metadata": {
    "scrolled": true
   },
   "outputs": [],
   "source": []
  },
  {
   "cell_type": "code",
   "execution_count": null,
   "metadata": {},
   "outputs": [],
   "source": [
    "def predict_mask(logit, EMPTY_THRESHOLD, MASK_THRESHOLD):\n",
    "    \"\"\"Transform each prediction into mask.\n",
    "    input shape: (256, 256)\n",
    "    \"\"\"\n",
    "    #pred mask 0-1 pixel-wise\n",
    "    #n = logit.shape[0]\n",
    "    IMG_SIZE = logit.shape[-1] #256\n",
    "    #EMPTY_THRESHOLD = 100.0*(IMG_SIZE/128.0)**2 #count of predicted mask pixles<threshold, predict as empty mask image\n",
    "    #MASK_THRESHOLD = 0.22\n",
    "    #logit = torch.sigmoid(torch.from_numpy(logit)).view(n, -1)\n",
    "    #pred = (logit>MASK_THRESHOLD).long()\n",
    "    #pred[pred.sum(dim=1) < EMPTY_THRESHOLD, ] = 0 #bug here, found it, the bug is input shape is (256, 256) not (16,256,256)\n",
    "    logit = sigmoid(logit)#.reshape(n, -1)\n",
    "    pred = (logit>MASK_THRESHOLD).astype(np.int)\n",
    "    if pred.sum() < EMPTY_THRESHOLD:\n",
    "        return np.zeros(pred.shape).astype(np.int)\n",
    "    else:\n",
    "        return pred\n",
    "    return pred"
   ]
  },
  {
   "cell_type": "markdown",
   "metadata": {},
   "source": [
    "it seems like ignoring EMPTY_THRESHOLD gives higher recall, although mask is low quality"
   ]
  },
  {
   "cell_type": "code",
   "execution_count": null,
   "metadata": {
    "scrolled": true
   },
   "outputs": [],
   "source": [
    "## visualize predicted masks\n",
    "start = 0\n",
    "rows = 10\n",
    "\n",
    "cnt = 0\n",
    "for idx, (img, mask) in enumerate(val_dl):\n",
    "    if idx<start:\n",
    "        continue\n",
    "    for j in range(BATCH_SIZE):#BATCH_SIZE=8\n",
    "        not_empty = mask[j][0].sum()>0\n",
    "        if not_empty:\n",
    "            cnt+=1\n",
    "            pred_mask = predict_mask(preds_valid[idx*BATCH_SIZE+j], EMPTY_THRESHOLD, MASK_THRESHOLD)#EMPTY_THRESHOLD=0\n",
    "            #if pred_mask.sum()==0:\n",
    "            #    continue\n",
    "            fig, (ax0, ax1, ax2) = plt.subplots(ncols=3, figsize=(12, 4))\n",
    "            ax0.imshow(img[j][0].numpy(), plt.cm.bone)\n",
    "            ax1.imshow(mask[j][0], vmin=0, vmax=1, cmap=\"Reds\")\n",
    "            ax2.imshow(pred_mask, vmin=0, vmax=1, cmap=\"Blues\")\n",
    "            if not_empty.item():\n",
    "                ax1.set_title('Targets(Has Mask)')\n",
    "            else:\n",
    "                ax1.set_title('Targets(Empty)')\n",
    "            ax2.set_title('Predictions')\n",
    "        if cnt>rows:\n",
    "            break\n",
    "    if cnt>rows:\n",
    "            break"
   ]
  },
  {
   "cell_type": "code",
   "execution_count": null,
   "metadata": {},
   "outputs": [],
   "source": [
    "# ## visualize predicted masks\n",
    "# rows = 20\n",
    "\n",
    "# cnt = 0\n",
    "# for idx, (img, mask) in enumerate(val_dl):\n",
    "#     for j in range(BATCH_SIZE):#BATCH_SIZE=8\n",
    "#         is_empty = mask[j][0].sum()==0\n",
    "#         if is_empty:\n",
    "#             cnt+=1\n",
    "#             pred_mask = predict_mask(preds_valid[idx*BATCH_SIZE+j], EMPTY_THRESHOLD, MASK_THRESHOLD)\n",
    "#             #if pred_mask.sum()==0:\n",
    "#             #    continue\n",
    "#             fig, (ax0, ax1, ax2) = plt.subplots(ncols=3, figsize=(12, 4))\n",
    "#             ax0.imshow(img[j][0].numpy(), plt.cm.bone)\n",
    "#             ax1.imshow(mask[j][0], vmin=0, vmax=1, cmap=\"Reds\")\n",
    "#             ax2.imshow(pred_mask, vmin=0, vmax=1, cmap=\"Blues\")\n",
    "#             if is_empty.item():\n",
    "#                 ax1.set_title('Targets(Empty Mask)')\n",
    "#             else:\n",
    "#                 ax1.set_title('Targets(Has Mask)')\n",
    "#             ax2.set_title('Predictions')\n",
    "#         if cnt>rows:\n",
    "#             break\n",
    "#     if cnt>rows:\n",
    "#             break"
   ]
  },
  {
   "cell_type": "code",
   "execution_count": null,
   "metadata": {},
   "outputs": [],
   "source": [
    "# s = (sigmoid(preds_valid)>MASK_THRESHOLD).reshape(1064, -1).sum(axis=1)\n",
    "# (s>1420).mean(), (s>0).mean()"
   ]
  },
  {
   "cell_type": "markdown",
   "metadata": {},
   "source": [
    "## predict the testset"
   ]
  },
  {
   "cell_type": "code",
   "execution_count": 4,
   "metadata": {},
   "outputs": [],
   "source": [
    "import glob\n",
    "from dataset_unet import prepare_testset"
   ]
  },
  {
   "cell_type": "code",
   "execution_count": 5,
   "metadata": {},
   "outputs": [
    {
     "data": {
      "text/plain": [
       "(1377, '1.2.276.0.7230010.3.1.4.8323329.6160.1517875196.806852')"
      ]
     },
     "execution_count": 5,
     "metadata": {},
     "output_type": "execute_result"
    }
   ],
   "source": [
    "test_fnames = [f.split('/')[-1][:-4] for f in glob.glob('data/processed/test/*')]\n",
    "len(test_fnames), test_fnames[0]"
   ]
  },
  {
   "cell_type": "code",
   "execution_count": 6,
   "metadata": {},
   "outputs": [],
   "source": [
    "test_dl = prepare_testset(BATCH_SIZE, NUM_WORKERS, IMG_SIZE)"
   ]
  },
  {
   "cell_type": "code",
   "execution_count": null,
   "metadata": {},
   "outputs": [],
   "source": [
    "%%time\n",
    "preds_test = predict_proba(net, test_dl, device, multi_gpu=multi_gpu, mode='test', tta=True)"
   ]
  },
  {
   "cell_type": "code",
   "execution_count": null,
   "metadata": {},
   "outputs": [],
   "source": [
    "preds_test.shape"
   ]
  },
  {
   "cell_type": "code",
   "execution_count": null,
   "metadata": {},
   "outputs": [],
   "source": [
    "## visualize predicted masks\n",
    "start = 0\n",
    "total = 19\n",
    "\n",
    "fig=plt.figure(figsize=(15, 20))\n",
    "cnt = 0\n",
    "for idx, img in enumerate(test_dl):\n",
    "    if idx<start:\n",
    "        continue\n",
    "    for j in range(BATCH_SIZE):#BATCH_SIZE=8\n",
    "        cnt+=1\n",
    "        pred_mask = predict_mask(preds_test[idx*BATCH_SIZE+j], EMPTY_THRESHOLD, MASK_THRESHOLD)\n",
    "        #if pred_mask.float().mean()==0:\n",
    "        #    continue\n",
    "        ax = fig.add_subplot(5, 4, cnt)\n",
    "        plt.imshow(img[j][0].numpy(), plt.cm.bone)\n",
    "        plt.imshow(pred_mask, alpha=0.3, cmap=\"Reds\")\n",
    "        if pred_mask.sum()>0:\n",
    "            plt.title('Predict Mask')\n",
    "        else:\n",
    "            plt.title('Predict Empty')\n",
    "        if cnt>total:\n",
    "            break\n",
    "    if cnt>total:\n",
    "            break"
   ]
  },
  {
   "cell_type": "code",
   "execution_count": null,
   "metadata": {},
   "outputs": [],
   "source": []
  },
  {
   "cell_type": "markdown",
   "metadata": {},
   "source": [
    "## build submission"
   ]
  },
  {
   "cell_type": "code",
   "execution_count": null,
   "metadata": {},
   "outputs": [],
   "source": [
    "import PIL\n",
    "from mask_functions import mask2rle"
   ]
  },
  {
   "cell_type": "code",
   "execution_count": null,
   "metadata": {},
   "outputs": [],
   "source": [
    "%%time\n",
    "#### Step 1: Generate rle encodings (images are first converted to the original size)\n",
    "rles = []\n",
    "for p in tqdm_notebook(preds_test):#p is logit from model\n",
    "    pred_mask = predict_mask(p, EMPTY_THRESHOLD, MASK_THRESHOLD)\n",
    "    if pred_mask.sum()>0:#predicted non-empty mask\n",
    "        im = PIL.Image.fromarray((pred_mask.T*255).astype(np.uint8)).resize((1024,1024))\n",
    "        im = np.asarray(im)\n",
    "        rles.append(mask2rle(im, 1024, 1024))\n",
    "    else: rles.append('-1')\n",
    "    \n",
    "sub_df = pd.DataFrame({'ImageId': test_fnames, 'EncodedPixels': rles})\n",
    "print(len(sub_df.index))\n",
    "sub_df.head()"
   ]
  },
  {
   "cell_type": "code",
   "execution_count": null,
   "metadata": {},
   "outputs": [],
   "source": [
    "sub_df.head()"
   ]
  },
  {
   "cell_type": "code",
   "execution_count": null,
   "metadata": {},
   "outputs": [],
   "source": [
    "# check the correctness of transformation\n",
    "pred_mask = predict_mask(preds_test[22], EMPTY_THRESHOLD, MASK_THRESHOLD)\n",
    "im = PIL.Image.fromarray((pred_mask.T*255).astype(np.uint8)).resize((1024,1024))\n",
    "im = np.asarray(im)\n",
    "im.max()"
   ]
  },
  {
   "cell_type": "code",
   "execution_count": null,
   "metadata": {},
   "outputs": [],
   "source": [
    "plt.imshow(im)"
   ]
  },
  {
   "cell_type": "code",
   "execution_count": null,
   "metadata": {},
   "outputs": [],
   "source": [
    "sub_df.to_csv('submission/0826_deeplabv3plus_1280_seed2345_tta_v2_10300_023.csv.gz', index=False, compression='gzip')"
   ]
  },
  {
   "cell_type": "code",
   "execution_count": null,
   "metadata": {},
   "outputs": [],
   "source": [
    "(sub_df.EncodedPixels!='-1').mean()"
   ]
  },
  {
   "cell_type": "code",
   "execution_count": null,
   "metadata": {},
   "outputs": [],
   "source": [
    "#this is for remembering best thresholds of those already submitted solutions\n",
    "sub_df.to_csv('submission/del.csv.gz', index=False, compression='gzip')"
   ]
  },
  {
   "cell_type": "code",
   "execution_count": null,
   "metadata": {},
   "outputs": [],
   "source": [
    "EMPTY_THRESHOLD, MASK_THRESHOLD"
   ]
  },
  {
   "cell_type": "code",
   "execution_count": null,
   "metadata": {},
   "outputs": [],
   "source": []
  },
  {
   "cell_type": "code",
   "execution_count": null,
   "metadata": {},
   "outputs": [],
   "source": [
    "rd_mask = np.zeros((1024, 1024))\n",
    "d = 50\n",
    "rd_mask[400:400+d, 400:400+d] = 1.0"
   ]
  },
  {
   "cell_type": "code",
   "execution_count": null,
   "metadata": {},
   "outputs": [],
   "source": [
    "plt.imshow(im, cmap=plt.cm.bone)\n",
    "plt.imshow(rd_mask, alpha=0.25, cmap='Reds')"
   ]
  },
  {
   "cell_type": "code",
   "execution_count": null,
   "metadata": {},
   "outputs": [],
   "source": []
  },
  {
   "cell_type": "code",
   "execution_count": null,
   "metadata": {},
   "outputs": [],
   "source": []
  }
 ],
 "metadata": {
  "kernelspec": {
   "display_name": "Python 3",
   "language": "python",
   "name": "python3"
  },
  "language_info": {
   "codemirror_mode": {
    "name": "ipython",
    "version": 3
   },
   "file_extension": ".py",
   "mimetype": "text/x-python",
   "name": "python",
   "nbconvert_exporter": "python",
   "pygments_lexer": "ipython3",
   "version": "3.7.1"
  }
 },
 "nbformat": 4,
 "nbformat_minor": 2
}
